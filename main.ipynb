{
  "cells": [
    {
      "cell_type": "code",
      "execution_count": 5,
      "metadata": {},
      "outputs": [
        {
          "name": "stdout",
          "output_type": "stream",
          "text": [
            "Collecting scikit-learn==1.5.2\n",
            "  Downloading scikit_learn-1.5.2-cp310-cp310-win_amd64.whl (11.0 MB)\n",
            "     --------------------------------------- 11.0/11.0 MB 81.9 MB/s eta 0:00:00\n",
            "Collecting scipy>=1.6.0\n",
            "  Downloading scipy-1.14.1-cp310-cp310-win_amd64.whl (44.8 MB)\n",
            "     --------------------------------------- 44.8/44.8 MB 28.4 MB/s eta 0:00:00\n",
            "Requirement already satisfied: numpy>=1.19.5 in c:\\users\\usuario\\appdata\\local\\programs\\python\\python310\\lib\\site-packages (from scikit-learn==1.5.2) (2.1.2)\n",
            "Collecting joblib>=1.2.0\n",
            "  Downloading joblib-1.4.2-py3-none-any.whl (301 kB)\n",
            "     ---------------------------------------- 301.8/301.8 KB ? eta 0:00:00\n",
            "Collecting threadpoolctl>=3.1.0\n",
            "  Downloading threadpoolctl-3.5.0-py3-none-any.whl (18 kB)\n",
            "Installing collected packages: threadpoolctl, scipy, joblib, scikit-learn\n",
            "Successfully installed joblib-1.4.2 scikit-learn-1.5.2 scipy-1.14.1 threadpoolctl-3.5.0\n",
            "Note: you may need to restart the kernel to use updated packages.\n"
          ]
        },
        {
          "name": "stderr",
          "output_type": "stream",
          "text": [
            "WARNING: You are using pip version 22.0.4; however, version 24.2 is available.\n",
            "You should consider upgrading via the 'c:\\Users\\Usuario\\AppData\\Local\\Programs\\Python\\Python310\\python.exe -m pip install --upgrade pip' command.\n"
          ]
        }
      ],
      "source": [
        "pip install scikit-learn==1.5.2"
      ]
    },
    {
      "cell_type": "code",
      "execution_count": 6,
      "metadata": {
        "id": "ybTysUtOFyVm"
      },
      "outputs": [],
      "source": [
        "import pandas as pd\n",
        "import numpy as np\n",
        "from sklearn.model_selection import train_test_split\n",
        "from sklearn.preprocessing import MinMaxScaler\n",
        "from sklearn.ensemble import RandomForestClassifier\n",
        "from sklearn.metrics import roc_auc_score, accuracy_score, precision_score, recall_score, f1_score\n",
        "from sklearn.preprocessing import OneHotEncoder"
      ]
    },
    {
      "cell_type": "code",
      "execution_count": 9,
      "metadata": {
        "colab": {
          "base_uri": "https://localhost:8080/",
          "height": 226
        },
        "id": "6SA0Tq3reZUZ",
        "outputId": "427bd7ab-6fb3-40b0-8755-58537ad51497"
      },
      "outputs": [
        {
          "data": {
            "text/html": [
              "<div>\n",
              "<style scoped>\n",
              "    .dataframe tbody tr th:only-of-type {\n",
              "        vertical-align: middle;\n",
              "    }\n",
              "\n",
              "    .dataframe tbody tr th {\n",
              "        vertical-align: top;\n",
              "    }\n",
              "\n",
              "    .dataframe thead th {\n",
              "        text-align: right;\n",
              "    }\n",
              "</style>\n",
              "<table border=\"1\" class=\"dataframe\">\n",
              "  <thead>\n",
              "    <tr style=\"text-align: right;\">\n",
              "      <th></th>\n",
              "      <th>id</th>\n",
              "      <th>person_age</th>\n",
              "      <th>person_income</th>\n",
              "      <th>person_home_ownership</th>\n",
              "      <th>person_emp_length</th>\n",
              "      <th>loan_intent</th>\n",
              "      <th>loan_grade</th>\n",
              "      <th>loan_amnt</th>\n",
              "      <th>loan_int_rate</th>\n",
              "      <th>loan_percent_income</th>\n",
              "      <th>cb_person_default_on_file</th>\n",
              "      <th>cb_person_cred_hist_length</th>\n",
              "      <th>loan_status</th>\n",
              "    </tr>\n",
              "  </thead>\n",
              "  <tbody>\n",
              "    <tr>\n",
              "      <th>0</th>\n",
              "      <td>0</td>\n",
              "      <td>37</td>\n",
              "      <td>35000</td>\n",
              "      <td>RENT</td>\n",
              "      <td>0.0</td>\n",
              "      <td>EDUCATION</td>\n",
              "      <td>B</td>\n",
              "      <td>6000</td>\n",
              "      <td>11.49</td>\n",
              "      <td>0.17</td>\n",
              "      <td>N</td>\n",
              "      <td>14</td>\n",
              "      <td>0</td>\n",
              "    </tr>\n",
              "    <tr>\n",
              "      <th>1</th>\n",
              "      <td>1</td>\n",
              "      <td>22</td>\n",
              "      <td>56000</td>\n",
              "      <td>OWN</td>\n",
              "      <td>6.0</td>\n",
              "      <td>MEDICAL</td>\n",
              "      <td>C</td>\n",
              "      <td>4000</td>\n",
              "      <td>13.35</td>\n",
              "      <td>0.07</td>\n",
              "      <td>N</td>\n",
              "      <td>2</td>\n",
              "      <td>0</td>\n",
              "    </tr>\n",
              "    <tr>\n",
              "      <th>2</th>\n",
              "      <td>2</td>\n",
              "      <td>29</td>\n",
              "      <td>28800</td>\n",
              "      <td>OWN</td>\n",
              "      <td>8.0</td>\n",
              "      <td>PERSONAL</td>\n",
              "      <td>A</td>\n",
              "      <td>6000</td>\n",
              "      <td>8.90</td>\n",
              "      <td>0.21</td>\n",
              "      <td>N</td>\n",
              "      <td>10</td>\n",
              "      <td>0</td>\n",
              "    </tr>\n",
              "    <tr>\n",
              "      <th>3</th>\n",
              "      <td>3</td>\n",
              "      <td>30</td>\n",
              "      <td>70000</td>\n",
              "      <td>RENT</td>\n",
              "      <td>14.0</td>\n",
              "      <td>VENTURE</td>\n",
              "      <td>B</td>\n",
              "      <td>12000</td>\n",
              "      <td>11.11</td>\n",
              "      <td>0.17</td>\n",
              "      <td>N</td>\n",
              "      <td>5</td>\n",
              "      <td>0</td>\n",
              "    </tr>\n",
              "    <tr>\n",
              "      <th>4</th>\n",
              "      <td>4</td>\n",
              "      <td>22</td>\n",
              "      <td>60000</td>\n",
              "      <td>RENT</td>\n",
              "      <td>2.0</td>\n",
              "      <td>MEDICAL</td>\n",
              "      <td>A</td>\n",
              "      <td>6000</td>\n",
              "      <td>6.92</td>\n",
              "      <td>0.10</td>\n",
              "      <td>N</td>\n",
              "      <td>3</td>\n",
              "      <td>0</td>\n",
              "    </tr>\n",
              "  </tbody>\n",
              "</table>\n",
              "</div>"
            ],
            "text/plain": [
              "   id  person_age  person_income person_home_ownership  person_emp_length  \\\n",
              "0   0          37          35000                  RENT                0.0   \n",
              "1   1          22          56000                   OWN                6.0   \n",
              "2   2          29          28800                   OWN                8.0   \n",
              "3   3          30          70000                  RENT               14.0   \n",
              "4   4          22          60000                  RENT                2.0   \n",
              "\n",
              "  loan_intent loan_grade  loan_amnt  loan_int_rate  loan_percent_income  \\\n",
              "0   EDUCATION          B       6000          11.49                 0.17   \n",
              "1     MEDICAL          C       4000          13.35                 0.07   \n",
              "2    PERSONAL          A       6000           8.90                 0.21   \n",
              "3     VENTURE          B      12000          11.11                 0.17   \n",
              "4     MEDICAL          A       6000           6.92                 0.10   \n",
              "\n",
              "  cb_person_default_on_file  cb_person_cred_hist_length  loan_status  \n",
              "0                         N                          14            0  \n",
              "1                         N                           2            0  \n",
              "2                         N                          10            0  \n",
              "3                         N                           5            0  \n",
              "4                         N                           3            0  "
            ]
          },
          "execution_count": 9,
          "metadata": {},
          "output_type": "execute_result"
        }
      ],
      "source": [
        "train = pd.read_csv(\"train.csv\")\n",
        "test = pd.read_csv(\"test.csv\")\n",
        "train.head()"
      ]
    },
    {
      "cell_type": "code",
      "execution_count": 10,
      "metadata": {
        "id": "CK44OQY7IGnR"
      },
      "outputs": [],
      "source": [
        "#One hotencoder train\n",
        "# Columnas categóricas a codificar (ajusta esto según tus columnas)\n",
        "columnas_categoricas = ['person_home_ownership', 'loan_intent', 'loan_grade', 'cb_person_default_on_file']\n",
        "# Crear un objeto OneHotEncoder\n",
        "encoder = OneHotEncoder(handle_unknown='ignore')\n",
        "# Aplicar el encoding a las columnas categóricas seleccionadas\n",
        "encoded_data = encoder.fit_transform(train[columnas_categoricas])\n",
        "# Obtener los nuevos nombres de las columnas\n",
        "new_column_names = encoder.get_feature_names_out(columnas_categoricas)\n",
        "# Convertir la matriz codificada en un DataFrame y concatenarlo con el DataFrame original\n",
        "encoded_train = pd.DataFrame(encoded_data.toarray(), columns=new_column_names)\n",
        "train = pd.concat([train.drop(columnas_categoricas, axis=1), encoded_train], axis=1)\n",
        "#print(train.head())"
      ]
    },
    {
      "cell_type": "code",
      "execution_count": 11,
      "metadata": {
        "id": "fMuRgqCFO_NU"
      },
      "outputs": [],
      "source": [
        "#One hotencoder test\n",
        "# Columnas categóricas a codificar (ajusta esto según tus columnas)\n",
        "columnas_categoricas = ['person_home_ownership', 'loan_intent', 'loan_grade', 'cb_person_default_on_file']\n",
        "# Crear un objeto OneHotEncoder\n",
        "encoder = OneHotEncoder(handle_unknown='ignore')\n",
        "# Aplicar el encoding a las columnas categóricas seleccionadas\n",
        "encoded_data = encoder.fit_transform(test[columnas_categoricas])\n",
        "# Obtener los nuevos nombres de las columnas\n",
        "new_column_names = encoder.get_feature_names_out(columnas_categoricas)\n",
        "# Convertir la matriz codificada en un DataFrame y concatenarlo con el DataFrame original\n",
        "encoded_test = pd.DataFrame(encoded_data.toarray(), columns=new_column_names)\n",
        "test = pd.concat([test.drop(columnas_categoricas, axis=1), encoded_test], axis=1)\n",
        "#print(test.head())"
      ]
    },
    {
      "cell_type": "code",
      "execution_count": 12,
      "metadata": {
        "id": "wNxsUvQ9GMDQ"
      },
      "outputs": [],
      "source": [
        "train_df = train.copy()\n",
        "test_df = test.copy()"
      ]
    },
    {
      "cell_type": "code",
      "execution_count": 13,
      "metadata": {
        "colab": {
          "base_uri": "https://localhost:8080/"
        },
        "id": "XQIArJRVQdm6",
        "outputId": "877174f2-930d-4c53-c7fc-28247c43c456"
      },
      "outputs": [
        {
          "name": "stdout",
          "output_type": "stream",
          "text": [
            "Accuracy Validation: 0.953\n",
            "Precision Validation: 0.927\n",
            "Recall Validation: 0.717\n",
            "F1 Score Validation: 0.809\n",
            "ROC AUC Validation: 0.937\n",
            "Predicciones guardadas en submission.csv\n"
          ]
        }
      ],
      "source": [
        "# Separar características y objetivo\n",
        "X = train.drop(columns=['loan_status'])\n",
        "y = train['loan_status']\n",
        "\n",
        "# Normalizar datos\n",
        "scaler = MinMaxScaler()\n",
        "X_scaled = scaler.fit_transform(X)\n",
        "test_scaled = scaler.transform(test)\n",
        "\n",
        "# Dividir el conjunto de datos de entrenamiento para evaluación interna\n",
        "X_train, X_val, y_train, y_val = train_test_split(X_scaled, y, test_size=0.2, random_state=42)\n",
        "\n",
        "# Crear y entrenar el modelo Random Forest\n",
        "model = RandomForestClassifier(n_estimators=100, random_state=42)\n",
        "model.fit(X_train, y_train)\n",
        "\n",
        "# Evaluar el modelo\n",
        "y_pred_train = model.predict(X_train)\n",
        "y_pred_val = model.predict(X_val)\n",
        "\n",
        "accuracy_val = accuracy_score(y_val, y_pred_val)\n",
        "precision_val = precision_score(y_val, y_pred_val)\n",
        "recall_val = recall_score(y_val, y_pred_val)\n",
        "f1_val = f1_score(y_val, y_pred_val)\n",
        "roc_auc_val = roc_auc_score(y_val, model.predict_proba(X_val)[:, 1])\n",
        "\n",
        "# Imprimir resultados de evaluación\n",
        "print(f'Accuracy Validation: {accuracy_val:.3f}')\n",
        "print(f'Precision Validation: {precision_val:.3f}')\n",
        "print(f'Recall Validation: {recall_val:.3f}')\n",
        "print(f'F1 Score Validation: {f1_val:.3f}')\n",
        "print(f'ROC AUC Validation: {roc_auc_val:.3f}')\n",
        "\n",
        "# Realizar predicciones en el conjunto de prueba\n",
        "test_predictions = model.predict_proba(test_scaled)[:, 1]\n",
        "\n",
        "# Crear el DataFrame de envío\n",
        "submission = pd.DataFrame({'idfila': test.index, 'loan_status': test_predictions})\n",
        "submission.to_csv('submission.csv', index=False)\n",
        "\n",
        "\n",
        "print('Predicciones guardadas en submission.csv')"
      ]
    },
    {
      "cell_type": "code",
      "execution_count": 14,
      "metadata": {
        "colab": {
          "base_uri": "https://localhost:8080/"
        },
        "id": "_HM99JTHRgkn",
        "outputId": "4d2b3b20-2520-4419-c431-2f422b344729"
      },
      "outputs": [
        {
          "name": "stdout",
          "output_type": "stream",
          "text": [
            "   idfila  loan_status\n",
            "0       0         0.90\n",
            "1       1         0.14\n",
            "2       2         0.67\n",
            "3       3         0.11\n",
            "4       4         0.22\n"
          ]
        }
      ],
      "source": [
        "# Realizar predicciones en el conjunto de prueba\n",
        "test_predictions = model.predict_proba(test_scaled)[:, 1]\n",
        "\n",
        "# Crear el DataFrame de envío con 'idfila' y 'loan_status'\n",
        "submission = pd.DataFrame({'idfila': test.index, 'loan_status': test_predictions})\n",
        "\n",
        "# Mostrar el DataFrame\n",
        "print(submission.head())\n"
      ]
    },
    {
      "cell_type": "code",
      "execution_count": 11,
      "metadata": {
        "colab": {
          "base_uri": "https://localhost:8080/"
        },
        "id": "E7B2JSDtSNRf",
        "outputId": "68413cf4-e39a-4c86-bc1f-dc83fddd5532"
      },
      "outputs": [
        {
          "name": "stdout",
          "output_type": "stream",
          "text": [
            "Modelo guardado como modelo_prestamo.pkl\n"
          ]
        }
      ],
      "source": [
        "import joblib\n",
        "\n",
        "# Guardar el modelo en formato .pkl\n",
        "joblib.dump(model, 'modelo_prestamo.pkl')\n",
        "print('Modelo guardado como modelo_prestamo.pkl')\n"
      ]
    }
  ],
  "metadata": {
    "colab": {
      "provenance": []
    },
    "kernelspec": {
      "display_name": "Python 3",
      "name": "python3"
    },
    "language_info": {
      "codemirror_mode": {
        "name": "ipython",
        "version": 3
      },
      "file_extension": ".py",
      "mimetype": "text/x-python",
      "name": "python",
      "nbconvert_exporter": "python",
      "pygments_lexer": "ipython3",
      "version": "3.10.5"
    }
  },
  "nbformat": 4,
  "nbformat_minor": 0
}
